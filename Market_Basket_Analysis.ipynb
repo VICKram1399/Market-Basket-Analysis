{
  "nbformat": 4,
  "nbformat_minor": 0,
  "metadata": {
    "colab": {
      "provenance": []
    },
    "kernelspec": {
      "name": "python3",
      "display_name": "Python 3"
    },
    "language_info": {
      "name": "python"
    }
  },
  "cells": [
    {
      "cell_type": "code",
      "execution_count": 1,
      "metadata": {
        "id": "TOEH-Zavt2uu"
      },
      "outputs": [],
      "source": [
        "import pandas as pd\n",
        "from mlxtend.frequent_patterns import apriori, association_rules\n",
        "from mlxtend.preprocessing import transactionencoder"
      ]
    },
    {
      "cell_type": "code",
      "source": [
        "# Data Preperation:-\n",
        "## df= pd.read_csv('data.csv')\n",
        "\n",
        "# Data Preperation:-\n",
        "df = pd.read_csv('data.csv', encoding='latin-1') # Try 'latin-1' encoding\n",
        "df.head()"
      ],
      "metadata": {
        "colab": {
          "base_uri": "https://localhost:8080/",
          "height": 347
        },
        "id": "ameiulxXwmjF",
        "outputId": "e5079ec2-2c7c-466c-fd5f-033df60167cf"
      },
      "execution_count": 2,
      "outputs": [
        {
          "output_type": "stream",
          "name": "stderr",
          "text": [
            "/usr/local/lib/python3.10/dist-packages/ipykernel/ipkernel.py:283: DeprecationWarning: `should_run_async` will not call `transform_cell` automatically in the future. Please pass the result to `transformed_cell` argument and any exception that happen during thetransform in `preprocessing_exc_tuple` in IPython 7.17 and above.\n",
            "  and should_run_async(code)\n"
          ]
        },
        {
          "output_type": "execute_result",
          "data": {
            "text/plain": [
              "  InvoiceNo StockCode                          Description  Quantity  \\\n",
              "0    536365    85123A   WHITE HANGING HEART T-LIGHT HOLDER         6   \n",
              "1    536365     71053                  WHITE METAL LANTERN         6   \n",
              "2    536365    84406B       CREAM CUPID HEARTS COAT HANGER         8   \n",
              "3    536365    84029G  KNITTED UNION FLAG HOT WATER BOTTLE         6   \n",
              "4    536365    84029E       RED WOOLLY HOTTIE WHITE HEART.         6   \n",
              "\n",
              "      InvoiceDate  UnitPrice  CustomerID         Country  \n",
              "0  12/1/2010 8:26       2.55     17850.0  United Kingdom  \n",
              "1  12/1/2010 8:26       3.39     17850.0  United Kingdom  \n",
              "2  12/1/2010 8:26       2.75     17850.0  United Kingdom  \n",
              "3  12/1/2010 8:26       3.39     17850.0  United Kingdom  \n",
              "4  12/1/2010 8:26       3.39     17850.0  United Kingdom  "
            ],
            "text/html": [
              "\n",
              "  <div id=\"df-b9074067-adfc-4d2c-820c-ab4d647582cd\" class=\"colab-df-container\">\n",
              "    <div>\n",
              "<style scoped>\n",
              "    .dataframe tbody tr th:only-of-type {\n",
              "        vertical-align: middle;\n",
              "    }\n",
              "\n",
              "    .dataframe tbody tr th {\n",
              "        vertical-align: top;\n",
              "    }\n",
              "\n",
              "    .dataframe thead th {\n",
              "        text-align: right;\n",
              "    }\n",
              "</style>\n",
              "<table border=\"1\" class=\"dataframe\">\n",
              "  <thead>\n",
              "    <tr style=\"text-align: right;\">\n",
              "      <th></th>\n",
              "      <th>InvoiceNo</th>\n",
              "      <th>StockCode</th>\n",
              "      <th>Description</th>\n",
              "      <th>Quantity</th>\n",
              "      <th>InvoiceDate</th>\n",
              "      <th>UnitPrice</th>\n",
              "      <th>CustomerID</th>\n",
              "      <th>Country</th>\n",
              "    </tr>\n",
              "  </thead>\n",
              "  <tbody>\n",
              "    <tr>\n",
              "      <th>0</th>\n",
              "      <td>536365</td>\n",
              "      <td>85123A</td>\n",
              "      <td>WHITE HANGING HEART T-LIGHT HOLDER</td>\n",
              "      <td>6</td>\n",
              "      <td>12/1/2010 8:26</td>\n",
              "      <td>2.55</td>\n",
              "      <td>17850.0</td>\n",
              "      <td>United Kingdom</td>\n",
              "    </tr>\n",
              "    <tr>\n",
              "      <th>1</th>\n",
              "      <td>536365</td>\n",
              "      <td>71053</td>\n",
              "      <td>WHITE METAL LANTERN</td>\n",
              "      <td>6</td>\n",
              "      <td>12/1/2010 8:26</td>\n",
              "      <td>3.39</td>\n",
              "      <td>17850.0</td>\n",
              "      <td>United Kingdom</td>\n",
              "    </tr>\n",
              "    <tr>\n",
              "      <th>2</th>\n",
              "      <td>536365</td>\n",
              "      <td>84406B</td>\n",
              "      <td>CREAM CUPID HEARTS COAT HANGER</td>\n",
              "      <td>8</td>\n",
              "      <td>12/1/2010 8:26</td>\n",
              "      <td>2.75</td>\n",
              "      <td>17850.0</td>\n",
              "      <td>United Kingdom</td>\n",
              "    </tr>\n",
              "    <tr>\n",
              "      <th>3</th>\n",
              "      <td>536365</td>\n",
              "      <td>84029G</td>\n",
              "      <td>KNITTED UNION FLAG HOT WATER BOTTLE</td>\n",
              "      <td>6</td>\n",
              "      <td>12/1/2010 8:26</td>\n",
              "      <td>3.39</td>\n",
              "      <td>17850.0</td>\n",
              "      <td>United Kingdom</td>\n",
              "    </tr>\n",
              "    <tr>\n",
              "      <th>4</th>\n",
              "      <td>536365</td>\n",
              "      <td>84029E</td>\n",
              "      <td>RED WOOLLY HOTTIE WHITE HEART.</td>\n",
              "      <td>6</td>\n",
              "      <td>12/1/2010 8:26</td>\n",
              "      <td>3.39</td>\n",
              "      <td>17850.0</td>\n",
              "      <td>United Kingdom</td>\n",
              "    </tr>\n",
              "  </tbody>\n",
              "</table>\n",
              "</div>\n",
              "    <div class=\"colab-df-buttons\">\n",
              "\n",
              "  <div class=\"colab-df-container\">\n",
              "    <button class=\"colab-df-convert\" onclick=\"convertToInteractive('df-b9074067-adfc-4d2c-820c-ab4d647582cd')\"\n",
              "            title=\"Convert this dataframe to an interactive table.\"\n",
              "            style=\"display:none;\">\n",
              "\n",
              "  <svg xmlns=\"http://www.w3.org/2000/svg\" height=\"24px\" viewBox=\"0 -960 960 960\">\n",
              "    <path d=\"M120-120v-720h720v720H120Zm60-500h600v-160H180v160Zm220 220h160v-160H400v160Zm0 220h160v-160H400v160ZM180-400h160v-160H180v160Zm440 0h160v-160H620v160ZM180-180h160v-160H180v160Zm440 0h160v-160H620v160Z\"/>\n",
              "  </svg>\n",
              "    </button>\n",
              "\n",
              "  <style>\n",
              "    .colab-df-container {\n",
              "      display:flex;\n",
              "      gap: 12px;\n",
              "    }\n",
              "\n",
              "    .colab-df-convert {\n",
              "      background-color: #E8F0FE;\n",
              "      border: none;\n",
              "      border-radius: 50%;\n",
              "      cursor: pointer;\n",
              "      display: none;\n",
              "      fill: #1967D2;\n",
              "      height: 32px;\n",
              "      padding: 0 0 0 0;\n",
              "      width: 32px;\n",
              "    }\n",
              "\n",
              "    .colab-df-convert:hover {\n",
              "      background-color: #E2EBFA;\n",
              "      box-shadow: 0px 1px 2px rgba(60, 64, 67, 0.3), 0px 1px 3px 1px rgba(60, 64, 67, 0.15);\n",
              "      fill: #174EA6;\n",
              "    }\n",
              "\n",
              "    .colab-df-buttons div {\n",
              "      margin-bottom: 4px;\n",
              "    }\n",
              "\n",
              "    [theme=dark] .colab-df-convert {\n",
              "      background-color: #3B4455;\n",
              "      fill: #D2E3FC;\n",
              "    }\n",
              "\n",
              "    [theme=dark] .colab-df-convert:hover {\n",
              "      background-color: #434B5C;\n",
              "      box-shadow: 0px 1px 3px 1px rgba(0, 0, 0, 0.15);\n",
              "      filter: drop-shadow(0px 1px 2px rgba(0, 0, 0, 0.3));\n",
              "      fill: #FFFFFF;\n",
              "    }\n",
              "  </style>\n",
              "\n",
              "    <script>\n",
              "      const buttonEl =\n",
              "        document.querySelector('#df-b9074067-adfc-4d2c-820c-ab4d647582cd button.colab-df-convert');\n",
              "      buttonEl.style.display =\n",
              "        google.colab.kernel.accessAllowed ? 'block' : 'none';\n",
              "\n",
              "      async function convertToInteractive(key) {\n",
              "        const element = document.querySelector('#df-b9074067-adfc-4d2c-820c-ab4d647582cd');\n",
              "        const dataTable =\n",
              "          await google.colab.kernel.invokeFunction('convertToInteractive',\n",
              "                                                    [key], {});\n",
              "        if (!dataTable) return;\n",
              "\n",
              "        const docLinkHtml = 'Like what you see? Visit the ' +\n",
              "          '<a target=\"_blank\" href=https://colab.research.google.com/notebooks/data_table.ipynb>data table notebook</a>'\n",
              "          + ' to learn more about interactive tables.';\n",
              "        element.innerHTML = '';\n",
              "        dataTable['output_type'] = 'display_data';\n",
              "        await google.colab.output.renderOutput(dataTable, element);\n",
              "        const docLink = document.createElement('div');\n",
              "        docLink.innerHTML = docLinkHtml;\n",
              "        element.appendChild(docLink);\n",
              "      }\n",
              "    </script>\n",
              "  </div>\n",
              "\n",
              "\n",
              "<div id=\"df-60d5c7ca-4545-4fbc-8656-ad080daf79bf\">\n",
              "  <button class=\"colab-df-quickchart\" onclick=\"quickchart('df-60d5c7ca-4545-4fbc-8656-ad080daf79bf')\"\n",
              "            title=\"Suggest charts\"\n",
              "            style=\"display:none;\">\n",
              "\n",
              "<svg xmlns=\"http://www.w3.org/2000/svg\" height=\"24px\"viewBox=\"0 0 24 24\"\n",
              "     width=\"24px\">\n",
              "    <g>\n",
              "        <path d=\"M19 3H5c-1.1 0-2 .9-2 2v14c0 1.1.9 2 2 2h14c1.1 0 2-.9 2-2V5c0-1.1-.9-2-2-2zM9 17H7v-7h2v7zm4 0h-2V7h2v10zm4 0h-2v-4h2v4z\"/>\n",
              "    </g>\n",
              "</svg>\n",
              "  </button>\n",
              "\n",
              "<style>\n",
              "  .colab-df-quickchart {\n",
              "      --bg-color: #E8F0FE;\n",
              "      --fill-color: #1967D2;\n",
              "      --hover-bg-color: #E2EBFA;\n",
              "      --hover-fill-color: #174EA6;\n",
              "      --disabled-fill-color: #AAA;\n",
              "      --disabled-bg-color: #DDD;\n",
              "  }\n",
              "\n",
              "  [theme=dark] .colab-df-quickchart {\n",
              "      --bg-color: #3B4455;\n",
              "      --fill-color: #D2E3FC;\n",
              "      --hover-bg-color: #434B5C;\n",
              "      --hover-fill-color: #FFFFFF;\n",
              "      --disabled-bg-color: #3B4455;\n",
              "      --disabled-fill-color: #666;\n",
              "  }\n",
              "\n",
              "  .colab-df-quickchart {\n",
              "    background-color: var(--bg-color);\n",
              "    border: none;\n",
              "    border-radius: 50%;\n",
              "    cursor: pointer;\n",
              "    display: none;\n",
              "    fill: var(--fill-color);\n",
              "    height: 32px;\n",
              "    padding: 0;\n",
              "    width: 32px;\n",
              "  }\n",
              "\n",
              "  .colab-df-quickchart:hover {\n",
              "    background-color: var(--hover-bg-color);\n",
              "    box-shadow: 0 1px 2px rgba(60, 64, 67, 0.3), 0 1px 3px 1px rgba(60, 64, 67, 0.15);\n",
              "    fill: var(--button-hover-fill-color);\n",
              "  }\n",
              "\n",
              "  .colab-df-quickchart-complete:disabled,\n",
              "  .colab-df-quickchart-complete:disabled:hover {\n",
              "    background-color: var(--disabled-bg-color);\n",
              "    fill: var(--disabled-fill-color);\n",
              "    box-shadow: none;\n",
              "  }\n",
              "\n",
              "  .colab-df-spinner {\n",
              "    border: 2px solid var(--fill-color);\n",
              "    border-color: transparent;\n",
              "    border-bottom-color: var(--fill-color);\n",
              "    animation:\n",
              "      spin 1s steps(1) infinite;\n",
              "  }\n",
              "\n",
              "  @keyframes spin {\n",
              "    0% {\n",
              "      border-color: transparent;\n",
              "      border-bottom-color: var(--fill-color);\n",
              "      border-left-color: var(--fill-color);\n",
              "    }\n",
              "    20% {\n",
              "      border-color: transparent;\n",
              "      border-left-color: var(--fill-color);\n",
              "      border-top-color: var(--fill-color);\n",
              "    }\n",
              "    30% {\n",
              "      border-color: transparent;\n",
              "      border-left-color: var(--fill-color);\n",
              "      border-top-color: var(--fill-color);\n",
              "      border-right-color: var(--fill-color);\n",
              "    }\n",
              "    40% {\n",
              "      border-color: transparent;\n",
              "      border-right-color: var(--fill-color);\n",
              "      border-top-color: var(--fill-color);\n",
              "    }\n",
              "    60% {\n",
              "      border-color: transparent;\n",
              "      border-right-color: var(--fill-color);\n",
              "    }\n",
              "    80% {\n",
              "      border-color: transparent;\n",
              "      border-right-color: var(--fill-color);\n",
              "      border-bottom-color: var(--fill-color);\n",
              "    }\n",
              "    90% {\n",
              "      border-color: transparent;\n",
              "      border-bottom-color: var(--fill-color);\n",
              "    }\n",
              "  }\n",
              "</style>\n",
              "\n",
              "  <script>\n",
              "    async function quickchart(key) {\n",
              "      const quickchartButtonEl =\n",
              "        document.querySelector('#' + key + ' button');\n",
              "      quickchartButtonEl.disabled = true;  // To prevent multiple clicks.\n",
              "      quickchartButtonEl.classList.add('colab-df-spinner');\n",
              "      try {\n",
              "        const charts = await google.colab.kernel.invokeFunction(\n",
              "            'suggestCharts', [key], {});\n",
              "      } catch (error) {\n",
              "        console.error('Error during call to suggestCharts:', error);\n",
              "      }\n",
              "      quickchartButtonEl.classList.remove('colab-df-spinner');\n",
              "      quickchartButtonEl.classList.add('colab-df-quickchart-complete');\n",
              "    }\n",
              "    (() => {\n",
              "      let quickchartButtonEl =\n",
              "        document.querySelector('#df-60d5c7ca-4545-4fbc-8656-ad080daf79bf button');\n",
              "      quickchartButtonEl.style.display =\n",
              "        google.colab.kernel.accessAllowed ? 'block' : 'none';\n",
              "    })();\n",
              "  </script>\n",
              "</div>\n",
              "\n",
              "    </div>\n",
              "  </div>\n"
            ],
            "application/vnd.google.colaboratory.intrinsic+json": {
              "type": "dataframe",
              "variable_name": "df"
            }
          },
          "metadata": {},
          "execution_count": 2
        }
      ]
    },
    {
      "cell_type": "markdown",
      "source": [
        "**Data Cleaning and Preprocessing**"
      ],
      "metadata": {
        "id": "TCRqcTFwx2R-"
      }
    },
    {
      "cell_type": "code",
      "source": [
        "# Removing leading/trailing spaces\n",
        "df['Description'] = df['Description'].str.strip()\n",
        "\n",
        "# Dropping raws without invoice numbers\n",
        "df.dropna(axis=0, subset=['InvoiceNo'], inplace=True)\n",
        "\n",
        "# Converting invoice numbers to strings\n",
        "df['InvoiceNo'] = df['InvoiceNo'].astype('str')\n",
        "\n",
        "# Removing credit transactions:-\n",
        "df = df[~df['InvoiceNo'].str.contains('C')]"
      ],
      "metadata": {
        "id": "M_KQr4bMw1Ys",
        "colab": {
          "base_uri": "https://localhost:8080/"
        },
        "outputId": "d780df22-188a-49d7-c95d-5138fb542494"
      },
      "execution_count": 3,
      "outputs": [
        {
          "output_type": "stream",
          "name": "stderr",
          "text": [
            "/usr/local/lib/python3.10/dist-packages/ipykernel/ipkernel.py:283: DeprecationWarning: `should_run_async` will not call `transform_cell` automatically in the future. Please pass the result to `transformed_cell` argument and any exception that happen during thetransform in `preprocessing_exc_tuple` in IPython 7.17 and above.\n",
            "  and should_run_async(code)\n"
          ]
        }
      ]
    },
    {
      "cell_type": "code",
      "source": [
        "# Creating a list of Transactions (each Transaction is a list of items):-\n",
        "basket = (df[df['Country']==\"France\"]\n",
        "          .groupby(['InvoiceNo','Description'])['Quantity']\n",
        "          .sum().unstack().reset_index().fillna(0)\n",
        "          .set_index('InvoiceNo'))"
      ],
      "metadata": {
        "id": "_htX0E9kzHF2",
        "colab": {
          "base_uri": "https://localhost:8080/"
        },
        "outputId": "be593bfd-0e18-4317-9f07-d8e68330e276"
      },
      "execution_count": 4,
      "outputs": [
        {
          "output_type": "stream",
          "name": "stderr",
          "text": [
            "/usr/local/lib/python3.10/dist-packages/ipykernel/ipkernel.py:283: DeprecationWarning: `should_run_async` will not call `transform_cell` automatically in the future. Please pass the result to `transformed_cell` argument and any exception that happen during thetransform in `preprocessing_exc_tuple` in IPython 7.17 and above.\n",
            "  and should_run_async(code)\n"
          ]
        }
      ]
    },
    {
      "cell_type": "code",
      "source": [
        "# Converting all positive values to 1 (presence of item) and others to 0 (absence of item):-\n",
        "def encode_units(x):\n",
        "  if x <= 0:\n",
        "    return 0\n",
        "  if x >= 1:\n",
        "    return 1\n",
        "\n",
        "basket_sets = basket.applymap(encode_units)\n",
        "basket_sets.drop('POSTAGE', inplace=True, axis=1)"
      ],
      "metadata": {
        "id": "OtuKnit_0GL4",
        "colab": {
          "base_uri": "https://localhost:8080/"
        },
        "outputId": "0e91e177-0361-4bec-a008-12761de12bea"
      },
      "execution_count": 5,
      "outputs": [
        {
          "output_type": "stream",
          "name": "stderr",
          "text": [
            "/usr/local/lib/python3.10/dist-packages/ipykernel/ipkernel.py:283: DeprecationWarning: `should_run_async` will not call `transform_cell` automatically in the future. Please pass the result to `transformed_cell` argument and any exception that happen during thetransform in `preprocessing_exc_tuple` in IPython 7.17 and above.\n",
            "  and should_run_async(code)\n"
          ]
        }
      ]
    },
    {
      "cell_type": "markdown",
      "source": [
        "**Frequent Itemset Mining (Apriori)**"
      ],
      "metadata": {
        "id": "4oXw5tRh00M6"
      }
    },
    {
      "cell_type": "code",
      "source": [
        "frequent_itemsets = apriori(basket_sets, min_support=0.07, use_colnames=True)"
      ],
      "metadata": {
        "id": "X2r1vUjG0vMa",
        "colab": {
          "base_uri": "https://localhost:8080/"
        },
        "outputId": "9e2201b2-d821-4e29-ed05-8dbfc12e4f5f"
      },
      "execution_count": 6,
      "outputs": [
        {
          "output_type": "stream",
          "name": "stderr",
          "text": [
            "/usr/local/lib/python3.10/dist-packages/ipykernel/ipkernel.py:283: DeprecationWarning: `should_run_async` will not call `transform_cell` automatically in the future. Please pass the result to `transformed_cell` argument and any exception that happen during thetransform in `preprocessing_exc_tuple` in IPython 7.17 and above.\n",
            "  and should_run_async(code)\n",
            "/usr/local/lib/python3.10/dist-packages/mlxtend/frequent_patterns/fpcommon.py:110: DeprecationWarning: DataFrames with non-bool types result in worse computationalperformance and their support might be discontinued in the future.Please use a DataFrame with bool type\n",
            "  warnings.warn(\n"
          ]
        }
      ]
    },
    {
      "cell_type": "markdown",
      "source": [
        "**Association Rule Generation**"
      ],
      "metadata": {
        "id": "GSWwluAs1Q0A"
      }
    },
    {
      "cell_type": "code",
      "source": [
        "rules = association_rules(frequent_itemsets, metric=\"lift\", min_threshold=1)"
      ],
      "metadata": {
        "id": "dkyUzrpu1MZF",
        "colab": {
          "base_uri": "https://localhost:8080/"
        },
        "outputId": "efb1a40a-3e63-41e1-c809-00580a47dbb5"
      },
      "execution_count": 7,
      "outputs": [
        {
          "output_type": "stream",
          "name": "stderr",
          "text": [
            "/usr/local/lib/python3.10/dist-packages/ipykernel/ipkernel.py:283: DeprecationWarning: `should_run_async` will not call `transform_cell` automatically in the future. Please pass the result to `transformed_cell` argument and any exception that happen during thetransform in `preprocessing_exc_tuple` in IPython 7.17 and above.\n",
            "  and should_run_async(code)\n"
          ]
        }
      ]
    },
    {
      "cell_type": "markdown",
      "source": [
        "**Rules Evaluation and Filtering**"
      ],
      "metadata": {
        "id": "OKWh9gFH1n1W"
      }
    },
    {
      "cell_type": "code",
      "source": [
        "# Sort rules by confidence in descending order:-\n",
        "rules= rules.sort_values(by='confidence', ascending= False)"
      ],
      "metadata": {
        "id": "TGcx2DwT1juY",
        "colab": {
          "base_uri": "https://localhost:8080/"
        },
        "outputId": "c04876eb-389b-44d7-8e77-fd8322fc7a77"
      },
      "execution_count": 8,
      "outputs": [
        {
          "output_type": "stream",
          "name": "stderr",
          "text": [
            "/usr/local/lib/python3.10/dist-packages/ipykernel/ipkernel.py:283: DeprecationWarning: `should_run_async` will not call `transform_cell` automatically in the future. Please pass the result to `transformed_cell` argument and any exception that happen during thetransform in `preprocessing_exc_tuple` in IPython 7.17 and above.\n",
            "  and should_run_async(code)\n"
          ]
        }
      ]
    },
    {
      "cell_type": "code",
      "source": [
        "# Filtering rules by Confidence and Lift:\n",
        "filtered_rules = rules[(rules['lift'] >= 1) &\n",
        "                       (rules['confidence'] >= 0.5)]\n",
        "print(filtered_rules.to_markdown(index=False, numalign=\"left\", stralign=\"left\"))"
      ],
      "metadata": {
        "colab": {
          "base_uri": "https://localhost:8080/"
        },
        "id": "SE35O6Ud1_sH",
        "outputId": "cae5787f-b682-42a0-abdc-519d5e34585f"
      },
      "execution_count": 9,
      "outputs": [
        {
          "output_type": "stream",
          "name": "stdout",
          "text": [
            "| antecedents                                                                        | consequents                                                                        | antecedent support   | consequent support   | support   | confidence   | lift    | leverage   | conviction   | zhangs_metric   |\n",
            "|:-----------------------------------------------------------------------------------|:-----------------------------------------------------------------------------------|:---------------------|:---------------------|:----------|:-------------|:--------|:-----------|:-------------|:----------------|\n",
            "| frozenset({'SET/6 RED SPOTTY PAPER CUPS', 'SET/20 RED RETROSPOT PAPER NAPKINS'})   | frozenset({'SET/6 RED SPOTTY PAPER PLATES'})                                       | 0.102041             | 0.127551             | 0.0994898 | 0.975        | 7.644   | 0.0864744  | 34.898       | 0.967949        |\n",
            "| frozenset({'SET/6 RED SPOTTY PAPER PLATES', 'SET/20 RED RETROSPOT PAPER NAPKINS'}) | frozenset({'SET/6 RED SPOTTY PAPER CUPS'})                                         | 0.102041             | 0.137755             | 0.0994898 | 0.975        | 7.07778 | 0.0854332  | 34.4898      | 0.956294        |\n",
            "| frozenset({'SET/6 RED SPOTTY PAPER PLATES'})                                       | frozenset({'SET/6 RED SPOTTY PAPER CUPS'})                                         | 0.127551             | 0.137755             | 0.122449  | 0.96         | 6.96889 | 0.104878   | 21.5561      | 0.981725        |\n",
            "| frozenset({'SET/6 RED SPOTTY PAPER CUPS'})                                         | frozenset({'SET/6 RED SPOTTY PAPER PLATES'})                                       | 0.137755             | 0.127551             | 0.122449  | 0.888889     | 6.96889 | 0.104878   | 7.85204      | 0.993343        |\n",
            "| frozenset({'ALARM CLOCK BAKELIKE RED'})                                            | frozenset({'ALARM CLOCK BAKELIKE GREEN'})                                          | 0.0943878            | 0.0969388            | 0.0790816 | 0.837838     | 8.64296 | 0.0699318  | 5.56888      | 0.976465        |\n",
            "| frozenset({'ALARM CLOCK BAKELIKE GREEN'})                                          | frozenset({'ALARM CLOCK BAKELIKE RED'})                                            | 0.0969388            | 0.0943878            | 0.0790816 | 0.815789     | 8.64296 | 0.0699318  | 4.91618      | 0.979224        |\n",
            "| frozenset({'SET/6 RED SPOTTY PAPER PLATES', 'SET/6 RED SPOTTY PAPER CUPS'})        | frozenset({'SET/20 RED RETROSPOT PAPER NAPKINS'})                                  | 0.122449             | 0.132653             | 0.0994898 | 0.8125       | 6.125   | 0.0832466  | 4.62585      | 0.953488        |\n",
            "| frozenset({'SET/6 RED SPOTTY PAPER PLATES'})                                       | frozenset({'SET/20 RED RETROSPOT PAPER NAPKINS'})                                  | 0.127551             | 0.132653             | 0.102041  | 0.8          | 6.03077 | 0.0851208  | 4.33673      | 0.95614         |\n",
            "| frozenset({'ALARM CLOCK BAKELIKE RED'})                                            | frozenset({'ALARM CLOCK BAKELIKE PINK'})                                           | 0.0943878            | 0.102041             | 0.0739796 | 0.783784     | 7.68108 | 0.0643482  | 4.15306      | 0.960466        |\n",
            "| frozenset({'SET/6 RED SPOTTY PAPER PLATES'})                                       | frozenset({'SET/6 RED SPOTTY PAPER CUPS', 'SET/20 RED RETROSPOT PAPER NAPKINS'})   | 0.127551             | 0.102041             | 0.0994898 | 0.78         | 7.644   | 0.0864744  | 4.08163      | 0.996251        |\n",
            "| frozenset({'SET/20 RED RETROSPOT PAPER NAPKINS'})                                  | frozenset({'SET/6 RED SPOTTY PAPER PLATES'})                                       | 0.132653             | 0.127551             | 0.102041  | 0.769231     | 6.03077 | 0.0851208  | 3.78061      | 0.961765        |\n",
            "| frozenset({'SET/20 RED RETROSPOT PAPER NAPKINS'})                                  | frozenset({'SET/6 RED SPOTTY PAPER CUPS'})                                         | 0.132653             | 0.137755             | 0.102041  | 0.769231     | 5.58405 | 0.0837672  | 3.73639      | 0.946471        |\n",
            "| frozenset({'ALARM CLOCK BAKELIKE GREEN'})                                          | frozenset({'ALARM CLOCK BAKELIKE PINK'})                                           | 0.0969388            | 0.102041             | 0.0739796 | 0.763158     | 7.47895 | 0.0640879  | 3.79138      | 0.959283        |\n",
            "| frozenset({'PLASTERS IN TIN SPACEBOY'})                                            | frozenset({'PLASTERS IN TIN WOODLAND ANIMALS'})                                    | 0.137755             | 0.170918             | 0.104592  | 0.759259     | 4.44223 | 0.081047   | 3.44388      | 0.898687        |\n",
            "| frozenset({'SET/20 RED RETROSPOT PAPER NAPKINS'})                                  | frozenset({'SET/6 RED SPOTTY PAPER PLATES', 'SET/6 RED SPOTTY PAPER CUPS'})        | 0.132653             | 0.122449             | 0.0994898 | 0.75         | 6.125   | 0.0832466  | 3.5102       | 0.964706        |\n",
            "| frozenset({'SET/6 RED SPOTTY PAPER CUPS'})                                         | frozenset({'SET/20 RED RETROSPOT PAPER NAPKINS'})                                  | 0.137755             | 0.132653             | 0.102041  | 0.740741     | 5.58405 | 0.0837672  | 3.34548      | 0.952071        |\n",
            "| frozenset({'ALARM CLOCK BAKELIKE PINK'})                                           | frozenset({'ALARM CLOCK BAKELIKE GREEN'})                                          | 0.102041             | 0.0969388            | 0.0739796 | 0.725        | 7.47895 | 0.0640879  | 3.28386      | 0.964734        |\n",
            "| frozenset({'ALARM CLOCK BAKELIKE PINK'})                                           | frozenset({'ALARM CLOCK BAKELIKE RED'})                                            | 0.102041             | 0.0943878            | 0.0739796 | 0.725        | 7.68108 | 0.0643482  | 3.29314      | 0.968652        |\n",
            "| frozenset({'SET/6 RED SPOTTY PAPER CUPS'})                                         | frozenset({'SET/6 RED SPOTTY PAPER PLATES', 'SET/20 RED RETROSPOT PAPER NAPKINS'}) | 0.137755             | 0.102041             | 0.0994898 | 0.722222     | 7.07778 | 0.0854332  | 3.23265      | 0.995904        |\n",
            "| frozenset({'DOLLY GIRL LUNCH BOX'})                                                | frozenset({'SPACEBOY LUNCH BOX'})                                                  | 0.0994898            | 0.125                | 0.0714286 | 0.717949     | 5.74359 | 0.0589923  | 3.10227      | 0.917139        |\n",
            "| frozenset({'PLASTERS IN TIN SPACEBOY'})                                            | frozenset({'PLASTERS IN TIN CIRCUS PARADE'})                                       | 0.137755             | 0.168367             | 0.0892857 | 0.648148     | 3.84961 | 0.0660923  | 2.36359      | 0.858495        |\n",
            "| frozenset({'PLASTERS IN TIN WOODLAND ANIMALS'})                                    | frozenset({'PLASTERS IN TIN SPACEBOY'})                                            | 0.170918             | 0.137755             | 0.104592  | 0.61194      | 4.44223 | 0.081047   | 2.22194      | 0.934634        |\n",
            "| frozenset({'PLASTERS IN TIN CIRCUS PARADE'})                                       | frozenset({'PLASTERS IN TIN WOODLAND ANIMALS'})                                    | 0.168367             | 0.170918             | 0.102041  | 0.606061     | 3.54591 | 0.0732637  | 2.10459      | 0.863344        |\n",
            "| frozenset({'PLASTERS IN TIN WOODLAND ANIMALS'})                                    | frozenset({'PLASTERS IN TIN CIRCUS PARADE'})                                       | 0.170918             | 0.168367             | 0.102041  | 0.597015     | 3.54591 | 0.0732637  | 2.06368      | 0.866           |\n",
            "| frozenset({'SPACEBOY LUNCH BOX'})                                                  | frozenset({'DOLLY GIRL LUNCH BOX'})                                                | 0.125                | 0.0994898            | 0.0714286 | 0.571429     | 5.74359 | 0.0589923  | 2.10119      | 0.943878        |\n",
            "| frozenset({'PLASTERS IN TIN CIRCUS PARADE'})                                       | frozenset({'PLASTERS IN TIN SPACEBOY'})                                            | 0.168367             | 0.137755             | 0.0892857 | 0.530303     | 3.84961 | 0.0660923  | 1.83575      | 0.890096        |\n"
          ]
        },
        {
          "output_type": "stream",
          "name": "stderr",
          "text": [
            "/usr/local/lib/python3.10/dist-packages/ipykernel/ipkernel.py:283: DeprecationWarning: `should_run_async` will not call `transform_cell` automatically in the future. Please pass the result to `transformed_cell` argument and any exception that happen during thetransform in `preprocessing_exc_tuple` in IPython 7.17 and above.\n",
            "  and should_run_async(code)\n"
          ]
        }
      ]
    },
    {
      "cell_type": "code",
      "source": [],
      "metadata": {
        "id": "GDON_4N020CY"
      },
      "execution_count": null,
      "outputs": []
    },
    {
      "cell_type": "markdown",
      "source": [
        "**Visualizing Network Graph**"
      ],
      "metadata": {
        "id": "ZxxRYRmL26MH"
      }
    },
    {
      "cell_type": "code",
      "source": [
        "import networkx as nx\n",
        "import matplotlib.pyplot as plt\n",
        "\n",
        "# Calculate node positions using a layout algorithm (e.g., spring layout)\n",
        "pos = nx.spring_layout(G)  # Add this line to calculate node positions"
      ],
      "metadata": {
        "id": "hvmwNIwh2_93",
        "colab": {
          "base_uri": "https://localhost:8080/"
        },
        "outputId": "e5917c37-6489-4e00-bc0e-b11756e125cf"
      },
      "execution_count": 13,
      "outputs": [
        {
          "output_type": "stream",
          "name": "stderr",
          "text": [
            "/usr/local/lib/python3.10/dist-packages/ipykernel/ipkernel.py:283: DeprecationWarning: `should_run_async` will not call `transform_cell` automatically in the future. Please pass the result to `transformed_cell` argument and any exception that happen during thetransform in `preprocessing_exc_tuple` in IPython 7.17 and above.\n",
            "  and should_run_async(code)\n"
          ]
        }
      ]
    },
    {
      "cell_type": "code",
      "source": [
        "# Creating a grapgh from the filtered rules:-\n",
        "G = nx.DiGraph()\n",
        "for i, row in filtered_rules.iterrows():\n",
        "  G.add_edge(row['antecedents'], row['consequents'], weight= row['lift'])"
      ],
      "metadata": {
        "id": "SV5trHhu3GaB",
        "colab": {
          "base_uri": "https://localhost:8080/"
        },
        "outputId": "0dd1dfd4-34e7-431c-c77a-75b4b26d2d9f"
      },
      "execution_count": 14,
      "outputs": [
        {
          "output_type": "stream",
          "name": "stderr",
          "text": [
            "/usr/local/lib/python3.10/dist-packages/ipykernel/ipkernel.py:283: DeprecationWarning: `should_run_async` will not call `transform_cell` automatically in the future. Please pass the result to `transformed_cell` argument and any exception that happen during thetransform in `preprocessing_exc_tuple` in IPython 7.17 and above.\n",
            "  and should_run_async(code)\n"
          ]
        }
      ]
    },
    {
      "cell_type": "code",
      "source": [
        "# Fix: Extract node values, handle non-numeric types, and ensure a non-empty list\n",
        "node_sizes = [float(v) * 1000 if isinstance(v, (int, float)) else 1000\n",
        "              for v in dict(G.nodes).values()]\n",
        "nx.draw(G, pos, with_labels=True, node_size=node_sizes,\n",
        "        node_color='skyblue', font_size=10, font_color='black',\n",
        "        width=[d['weight'] / 2 for (u, v, d) in G.edges(data= True)])\n",
        "\n",
        "edge_labels = nx.get_edge_attributes(G, 'weight')\n",
        "nx.draw_networkx_edge_labels(G, pos, edge_labels= edge_labels)\n",
        "plt.title('Association Rules Network Grapgh ')\n",
        "plt.show()"
      ],
      "metadata": {
        "colab": {
          "base_uri": "https://localhost:8080/",
          "height": 594
        },
        "id": "K0w8297X6SKr",
        "outputId": "156486e7-8481-4663-aa7e-17a95556dd76"
      },
      "execution_count": 15,
      "outputs": [
        {
          "output_type": "stream",
          "name": "stderr",
          "text": [
            "/usr/local/lib/python3.10/dist-packages/ipykernel/ipkernel.py:283: DeprecationWarning: `should_run_async` will not call `transform_cell` automatically in the future. Please pass the result to `transformed_cell` argument and any exception that happen during thetransform in `preprocessing_exc_tuple` in IPython 7.17 and above.\n",
            "  and should_run_async(code)\n"
          ]
        },
        {
          "output_type": "display_data",
          "data": {
            "text/plain": [
              "<Figure size 640x480 with 1 Axes>"
            ],
            "image/png": "[encoded data removed]"
          },
          "metadata": {}
        }
      ]
    },
    {
      "cell_type": "markdown",
      "source": [
        "**Validation**"
      ],
      "metadata": {
        "id": "9khfhaw_6bff"
      }
    },
    {
      "cell_type": "code",
      "source": [
        "from sklearn.model_selection import train_test_split\n",
        "\n",
        "# Splitting the dataset\n",
        "X_train, X_test= train_test_split(basket_sets, test_size=0.2, random_state=42)"
      ],
      "metadata": {
        "id": "Y_DZJiSi6jZq",
        "colab": {
          "base_uri": "https://localhost:8080/"
        },
        "outputId": "df0c752b-0c48-4233-e252-b7a96f6a5462"
      },
      "execution_count": 17,
      "outputs": [
        {
          "output_type": "stream",
          "name": "stderr",
          "text": [
            "/usr/local/lib/python3.10/dist-packages/ipykernel/ipkernel.py:283: DeprecationWarning: `should_run_async` will not call `transform_cell` automatically in the future. Please pass the result to `transformed_cell` argument and any exception that happen during thetransform in `preprocessing_exc_tuple` in IPython 7.17 and above.\n",
            "  and should_run_async(code)\n"
          ]
        }
      ]
    },
    {
      "cell_type": "code",
      "source": [
        "# Evaluateing the Association Rules on the Test set(X_test):\n",
        "\n",
        "for _, row in filtered_rules.iterrows():\n",
        "  antecedent = list(row['antecedents'])\n",
        "  consequent = list(row['consequents'])\n",
        "  support_test = X_test[X_test[antecedent].all(axis=1)][consequent].all(axis=1).mean()\n",
        "  print(f\"Rule: {antecedent} -> {consequent}, Support on Test Set: {support_test: .2f}\")"
      ],
      "metadata": {
        "colab": {
          "base_uri": "https://localhost:8080/"
        },
        "id": "5S2pvJnh68eT",
        "outputId": "7628d3a7-5234-4de9-fb15-74277c1969c9"
      },
      "execution_count": 18,
      "outputs": [
        {
          "output_type": "stream",
          "name": "stderr",
          "text": [
            "/usr/local/lib/python3.10/dist-packages/ipykernel/ipkernel.py:283: DeprecationWarning: `should_run_async` will not call `transform_cell` automatically in the future. Please pass the result to `transformed_cell` argument and any exception that happen during thetransform in `preprocessing_exc_tuple` in IPython 7.17 and above.\n",
            "  and should_run_async(code)\n"
          ]
        },
        {
          "output_type": "stream",
          "name": "stdout",
          "text": [
            "Rule: ['SET/6 RED SPOTTY PAPER CUPS', 'SET/20 RED RETROSPOT PAPER NAPKINS'] -> ['SET/6 RED SPOTTY PAPER PLATES'], Support on Test Set:  1.00\n",
            "Rule: ['SET/6 RED SPOTTY PAPER PLATES', 'SET/20 RED RETROSPOT PAPER NAPKINS'] -> ['SET/6 RED SPOTTY PAPER CUPS'], Support on Test Set:  1.00\n",
            "Rule: ['SET/6 RED SPOTTY PAPER PLATES'] -> ['SET/6 RED SPOTTY PAPER CUPS'], Support on Test Set:  0.92\n",
            "Rule: ['SET/6 RED SPOTTY PAPER CUPS'] -> ['SET/6 RED SPOTTY PAPER PLATES'], Support on Test Set:  0.92\n",
            "Rule: ['ALARM CLOCK BAKELIKE RED'] -> ['ALARM CLOCK BAKELIKE GREEN'], Support on Test Set:  1.00\n",
            "Rule: ['ALARM CLOCK BAKELIKE GREEN'] -> ['ALARM CLOCK BAKELIKE RED'], Support on Test Set:  0.83\n",
            "Rule: ['SET/6 RED SPOTTY PAPER PLATES', 'SET/6 RED SPOTTY PAPER CUPS'] -> ['SET/20 RED RETROSPOT PAPER NAPKINS'], Support on Test Set:  0.91\n",
            "Rule: ['SET/6 RED SPOTTY PAPER PLATES'] -> ['SET/20 RED RETROSPOT PAPER NAPKINS'], Support on Test Set:  0.83\n",
            "Rule: ['ALARM CLOCK BAKELIKE RED'] -> ['ALARM CLOCK BAKELIKE PINK'], Support on Test Set:  1.00\n",
            "Rule: ['SET/6 RED SPOTTY PAPER PLATES'] -> ['SET/6 RED SPOTTY PAPER CUPS', 'SET/20 RED RETROSPOT PAPER NAPKINS'], Support on Test Set:  0.83\n",
            "Rule: ['SET/20 RED RETROSPOT PAPER NAPKINS'] -> ['SET/6 RED SPOTTY PAPER PLATES'], Support on Test Set:  0.83\n",
            "Rule: ['SET/20 RED RETROSPOT PAPER NAPKINS'] -> ['SET/6 RED SPOTTY PAPER CUPS'], Support on Test Set:  0.83\n",
            "Rule: ['ALARM CLOCK BAKELIKE GREEN'] -> ['ALARM CLOCK BAKELIKE PINK'], Support on Test Set:  1.00\n",
            "Rule: ['PLASTERS IN TIN SPACEBOY'] -> ['PLASTERS IN TIN WOODLAND ANIMALS'], Support on Test Set:  0.80\n",
            "Rule: ['SET/20 RED RETROSPOT PAPER NAPKINS'] -> ['SET/6 RED SPOTTY PAPER PLATES', 'SET/6 RED SPOTTY PAPER CUPS'], Support on Test Set:  0.83\n",
            "Rule: ['SET/6 RED SPOTTY PAPER CUPS'] -> ['SET/20 RED RETROSPOT PAPER NAPKINS'], Support on Test Set:  0.83\n",
            "Rule: ['ALARM CLOCK BAKELIKE PINK'] -> ['ALARM CLOCK BAKELIKE GREEN'], Support on Test Set:  0.86\n",
            "Rule: ['ALARM CLOCK BAKELIKE PINK'] -> ['ALARM CLOCK BAKELIKE RED'], Support on Test Set:  0.71\n",
            "Rule: ['SET/6 RED SPOTTY PAPER CUPS'] -> ['SET/6 RED SPOTTY PAPER PLATES', 'SET/20 RED RETROSPOT PAPER NAPKINS'], Support on Test Set:  0.83\n",
            "Rule: ['DOLLY GIRL LUNCH BOX'] -> ['SPACEBOY LUNCH BOX'], Support on Test Set:  0.71\n",
            "Rule: ['PLASTERS IN TIN SPACEBOY'] -> ['PLASTERS IN TIN CIRCUS PARADE'], Support on Test Set:  0.60\n",
            "Rule: ['PLASTERS IN TIN WOODLAND ANIMALS'] -> ['PLASTERS IN TIN SPACEBOY'], Support on Test Set:  0.62\n",
            "Rule: ['PLASTERS IN TIN CIRCUS PARADE'] -> ['PLASTERS IN TIN WOODLAND ANIMALS'], Support on Test Set:  0.70\n",
            "Rule: ['PLASTERS IN TIN WOODLAND ANIMALS'] -> ['PLASTERS IN TIN CIRCUS PARADE'], Support on Test Set:  0.54\n",
            "Rule: ['SPACEBOY LUNCH BOX'] -> ['DOLLY GIRL LUNCH BOX'], Support on Test Set:  0.45\n",
            "Rule: ['PLASTERS IN TIN CIRCUS PARADE'] -> ['PLASTERS IN TIN SPACEBOY'], Support on Test Set:  0.60\n"
          ]
        }
      ]
    },
    {
      "cell_type": "code",
      "source": [
        "from sklearn.model_selection import KFold"
      ],
      "metadata": {
        "colab": {
          "base_uri": "https://localhost:8080/"
        },
        "id": "w-cZVksJ8aEN",
        "outputId": "32c7c01e-6c89-486d-b4f5-ee8b5493a098"
      },
      "execution_count": 19,
      "outputs": [
        {
          "output_type": "stream",
          "name": "stderr",
          "text": [
            "/usr/local/lib/python3.10/dist-packages/ipykernel/ipkernel.py:283: DeprecationWarning: `should_run_async` will not call `transform_cell` automatically in the future. Please pass the result to `transformed_cell` argument and any exception that happen during thetransform in `preprocessing_exc_tuple` in IPython 7.17 and above.\n",
            "  and should_run_async(code)\n"
          ]
        }
      ]
    },
    {
      "cell_type": "code",
      "source": [
        "# Initializing k-fold cross-validation:-\n",
        "kf = KFold(n_splits=5, shuffle=True, random_state=42)\n",
        "\n",
        "# Metrices to track:-\n",
        "total_support = []\n",
        "total_confidence = []\n",
        "total_lift= []\n",
        "rule_counts = []\n",
        "\n",
        "# Cross-validation loop:\n",
        "for train_index, test_index in kf.split(basket_sets):\n",
        "  X_train, X_test = basket_sets.iloc[train_index], basket_sets.iloc[test_index]"
      ],
      "metadata": {
        "colab": {
          "base_uri": "https://localhost:8080/"
        },
        "id": "qOsxS3xM8r8y",
        "outputId": "9889a017-9705-4761-dd0a-c4eae3ddf476"
      },
      "execution_count": 21,
      "outputs": [
        {
          "output_type": "stream",
          "name": "stderr",
          "text": [
            "/usr/local/lib/python3.10/dist-packages/ipykernel/ipkernel.py:283: DeprecationWarning: `should_run_async` will not call `transform_cell` automatically in the future. Please pass the result to `transformed_cell` argument and any exception that happen during thetransform in `preprocessing_exc_tuple` in IPython 7.17 and above.\n",
            "  and should_run_async(code)\n"
          ]
        }
      ]
    },
    {
      "cell_type": "code",
      "source": [
        "# Rule Evaluation on Test Data:-\n",
        "for _, rule in rules.iterrows():\n",
        "  antecedent = set(rule['antecedents'])\n",
        "  consequent = set(rule['consequents'])\n",
        "\n",
        "  # Check if the rule applies to any transaction in the test set\n",
        "  rule_applicable= X_test[(X_test[list(antecedent)]==1).all(axis=1)]\n",
        "  rule_match = rule_applicable[(rule_applicable[list(consequent)]==1).all(axis=1)]\n",
        "\n",
        "  # Calculating Support, Confidence and Lift for the rule on Test Set:-\n",
        "  support_test = len(rule_match)/ len(X_test)\n",
        "  confidence_test = len(rule_match)/ len(rule_applicable) if len(rule_applicable)>0 else 0\n",
        "\n",
        "  # Convert the consequent column to numeric type before calculating the sum\n",
        "  X_test_numeric = X_test[list(consequent)].apply(pd.to_numeric, errors='coerce') # to avoid unsupported oprand error\n",
        "  lift_test = confidence_test/ (X_test_numeric.sum() / len(X_test))\n",
        "\n",
        "  total_support.append(support_test)\n",
        "  total_confidence.append(confidence_test)\n",
        "  total_lift.append(lift_test)\n",
        "\n",
        "rule_counts.append(len(rules))"
      ],
      "metadata": {
        "colab": {
          "base_uri": "https://localhost:8080/"
        },
        "id": "cEp45v8bAqax",
        "outputId": "bcab0150-960c-43e3-f522-bc1936bfe433"
      },
      "execution_count": 35,
      "outputs": [
        {
          "output_type": "stream",
          "name": "stderr",
          "text": [
            "/usr/local/lib/python3.10/dist-packages/ipykernel/ipkernel.py:283: DeprecationWarning: `should_run_async` will not call `transform_cell` automatically in the future. Please pass the result to `transformed_cell` argument and any exception that happen during thetransform in `preprocessing_exc_tuple` in IPython 7.17 and above.\n",
            "  and should_run_async(code)\n"
          ]
        }
      ]
    },
    {
      "cell_type": "code",
      "source": [
        "import numpy as np\n",
        "# Summarize Cross-Validation Results\n",
        "print(f\"Average Support: {np.mean(total_support):.4f}\")\n",
        "print(f\"Average Confidence: {np.mean(total_confidence):.4f}\")\n",
        "\n",
        "print(f\"Average Number of Rules: {np.mean(rule_counts):.2f}\")"
      ],
      "metadata": {
        "colab": {
          "base_uri": "https://localhost:8080/"
        },
        "id": "v4ZZASCQCweO",
        "outputId": "17667597-0be5-4efa-ff8a-b8b008d044a2"
      },
      "execution_count": 36,
      "outputs": [
        {
          "output_type": "stream",
          "name": "stdout",
          "text": [
            "Average Support: 0.1045\n",
            "Average Confidence: 0.7416\n",
            "Average Number of Rules: 26.00\n"
          ]
        },
        {
          "output_type": "stream",
          "name": "stderr",
          "text": [
            "/usr/local/lib/python3.10/dist-packages/ipykernel/ipkernel.py:283: DeprecationWarning: `should_run_async` will not call `transform_cell` automatically in the future. Please pass the result to `transformed_cell` argument and any exception that happen during thetransform in `preprocessing_exc_tuple` in IPython 7.17 and above.\n",
            "  and should_run_async(code)\n"
          ]
        }
      ]
    },
    {
      "cell_type": "markdown",
      "source": [
        "Average Support: 0.1045\n",
        "\n",
        "* Interpretation: This means that, on average, the itemsets involved in our association rules appear together in about 10.45% of the transactions across all folds of our dataset.\n",
        "* Implication: This indicates that the rules I have discovered capture associations that are not extremely rare but also not universally common. They represent patterns that occur with a moderate frequency in our customer's purchasing behavior.\n",
        "\n",
        "\n",
        "\n"
      ],
      "metadata": {
        "id": "f9Hxls4XGknP"
      }
    },
    {
      "cell_type": "code",
      "source": [],
      "metadata": {
        "id": "5A5zRHa8C6yf"
      },
      "execution_count": null,
      "outputs": []
    },
    {
      "cell_type": "markdown",
      "source": [
        "Average Confidence: 0.7416\n",
        "\n",
        "* Interpretation: On average, when the antecedent itemset (the \"if\" part of the rule) is present in a transaction, there is a 74.16% probability that the consequent itemset (the \"then\" part of the rule) will also be present.\n",
        "* Implication: This suggests that our rules have a reasonably high predictive power. If a customer buys the items in the antecedent, there's a good chance they'll also buy the items in the consequent."
      ],
      "metadata": {
        "id": "pcEylaUAHGpc"
      }
    },
    {
      "cell_type": "markdown",
      "source": [
        "Average Number of Rules: 26.00\n",
        "\n",
        "* Interpretation: On average, the model generates 26 association rules per cross-validation fold.\n",
        "* Implication: This tells that the approximate number of potentially interesting relationships the model is identifying in the data. However, remember that the number of rules alone doesn't indicate quality. We will need to evaluate the rules based on support, confidence, lift, and their relevance to the business goals."
      ],
      "metadata": {
        "id": "DPWKjs3SHU9T"
      }
    },
    {
      "cell_type": "markdown",
      "source": [
        "Based on these results:\n",
        "\n",
        "* The model seems to be doing a decent job of identifying associations between items.\n",
        "* The average confidence and lift values are promising.\n",
        "* The average support suggests that the rules are capturing patterns that are frequent enough to be potentially useful.\n",
        "\n",
        "* We have a good starting point for further analysis and decision-making. We can now examine the specific rules generated, prioritize the most interesting ones, and consider how to leverage them for product recommendations, store layout optimization, or other business strategies."
      ],
      "metadata": {
        "id": "RBPvNedAGDWP"
      }
    },
    {
      "cell_type": "code",
      "source": [],
      "metadata": {
        "id": "6FKBdtAJKH3w"
      },
      "execution_count": null,
      "outputs": []
    }
  ]
}